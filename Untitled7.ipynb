{
  "nbformat": 4,
  "nbformat_minor": 0,
  "metadata": {
    "colab": {
      "provenance": [],
      "authorship_tag": "ABX9TyPgQ09GVjDkZfKshxF9bhrD",
      "include_colab_link": true
    },
    "kernelspec": {
      "name": "python3",
      "display_name": "Python 3"
    },
    "language_info": {
      "name": "python"
    }
  },
  "cells": [
    {
      "cell_type": "markdown",
      "metadata": {
        "id": "view-in-github",
        "colab_type": "text"
      },
      "source": [
        "<a href=\"https://colab.research.google.com/github/Naseemhadi/LED/blob/main/Untitled7.ipynb\" target=\"_parent\"><img src=\"https://colab.research.google.com/assets/colab-badge.svg\" alt=\"Open In Colab\"/></a>"
      ]
    },
    {
      "cell_type": "code",
      "execution_count": 1,
      "metadata": {
        "colab": {
          "base_uri": "https://localhost:8080/"
        },
        "id": "zbYNayoafiuJ",
        "outputId": "bbe13c97-7eae-4a74-9b7e-c8b5b0ce44c0"
      },
      "outputs": [
        {
          "output_type": "stream",
          "name": "stdout",
          "text": [
            "1\n",
            "10\n",
            "sum of1,10= 11\n"
          ]
        }
      ],
      "source": [
        "def addition(num1,num2):\n",
        "    print(f\"sum of{num1},{num2}=\",num1+num2)\n",
        "\n",
        "a=int(input())\n",
        "b=int(input())\n",
        "\n",
        "addition(a,b)"
      ]
    },
    {
      "cell_type": "code",
      "source": [],
      "metadata": {
        "id": "K4AbXSBxg3be"
      },
      "execution_count": null,
      "outputs": []
    }
  ]
}